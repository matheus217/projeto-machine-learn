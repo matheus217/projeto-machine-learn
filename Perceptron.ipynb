{
  "nbformat": 4,
  "nbformat_minor": 0,
  "metadata": {
    "colab": {
      "name": "Perceptron.ipynb",
      "version": "0.3.2",
      "provenance": [],
      "include_colab_link": true
    },
    "kernelspec": {
      "name": "python2",
      "display_name": "Python 2"
    }
  },
  "cells": [
    {
      "cell_type": "markdown",
      "metadata": {
        "id": "view-in-github",
        "colab_type": "text"
      },
      "source": [
        "[View in Colaboratory](https://colab.research.google.com/github/matheus217/projeto-machine-learn/blob/master/Perceptron.ipynb)"
      ]
    },
    {
      "metadata": {
        "id": "9C378mE5hoJ3",
        "colab_type": "code",
        "colab": {
          "base_uri": "https://localhost:8080/",
          "height": 68
        },
        "outputId": "7923213b-49d8-47cf-a131-a528696ff1ef"
      },
      "cell_type": "code",
      "source": [
        "import numpy as np\n",
        "\n",
        "x = [[0,0,1],[1,1,0]]\n",
        "w = [0.4, -0.6, 0.6]\n",
        "d = [-1,1]\n",
        "limiar = 0.5\n",
        "\n",
        "taxa_aprendizado = 0.4\n",
        "\n",
        "erro = 10\n",
        "\n",
        "while(erro!=-2):\n",
        "  u = x[0][0]*w[0] +  x[0][1]*w[1] + x[0][2]*w[2] -1*limiar\n",
        "  \n",
        "  if u>=0:\n",
        "    y = +1\n",
        "  else:\n",
        "    y = -1\n",
        "    \n",
        "  erro = d[0] - y\n",
        "  \n",
        "  w[0] = w[0] + taxa_aprendizado*x[0][0]*erro\n",
        "  w[1] = w[1] + taxa_aprendizado*x[0][1]*erro\n",
        "  w[2] = w[2] + taxa_aprendizado*x[0][2]*erro\n",
        "  limiar = limiar + taxa_aprendizado*d[0]*erro\n",
        "  \n",
        "print('valor de u: ',u)\n",
        "print('valor do erro: ',erro)\n",
        "print(w)"
      ],
      "execution_count": 55,
      "outputs": [
        {
          "output_type": "stream",
          "text": [
            "('valor de u: ', 0.09999999999999998)\n",
            "('valor do erro: ', -2)\n",
            "[0.4, -0.6, -0.20000000000000007]\n"
          ],
          "name": "stdout"
        }
      ]
    },
    {
      "metadata": {
        "id": "wWLGYzSe04mG",
        "colab_type": "code",
        "colab": {
          "base_uri": "https://localhost:8080/",
          "height": 68
        },
        "outputId": "8cd2920c-8c05-40ac-a564-965b9dc36256"
      },
      "cell_type": "code",
      "source": [
        "import numpy as np\n",
        "\n",
        "x = [[0,0,1],[1,1,0]]\n",
        "w = [0.4, -0.6, 0.6]\n",
        "d = [-1,1]\n",
        "u = [5,5]\n",
        "y = [5,5]\n",
        "erro = [10,10]\n",
        "limiar = 0.5\n",
        "\n",
        "taxa_aprendizado = 0.4\n",
        "\n",
        "i = 0\n",
        "\n",
        "while(erro[1]!=2):\n",
        "    \n",
        "  if erro[i]==-2:\n",
        "    i = i + 1\n",
        "    \n",
        "  u[i] = x[i][0]*w[0] +  x[i][1]*w[1] + x[i][2]*w[2] -1*limiar\n",
        "  if u[i]>=0:\n",
        "    y[i] = +1\n",
        "  else:\n",
        "    y[i] = -1\n",
        "  erro[i] = d[i] - y[i]\n",
        "  w[0] = w[0] + taxa_aprendizado*x[i][0]*erro[i]\n",
        "  w[1] = w[1] + taxa_aprendizado*x[i][1]*erro[i]\n",
        "  w[2] = w[2] + taxa_aprendizado*x[i][2]*erro[i]\n",
        "  limiar = limiar + taxa_aprendizado*d[i]*erro[i]\n",
        "    \n",
        "print('valor de u: ',u)\n",
        "print('valor do erro: ',erro)\n",
        "print(w)"
      ],
      "execution_count": 75,
      "outputs": [
        {
          "output_type": "stream",
          "text": [
            "('valor de u: ', [0.09999999999999998, -1.5])\n",
            "('valor do erro: ', [-2, 2])\n",
            "[1.2000000000000002, 0.20000000000000007, -0.20000000000000007]\n"
          ],
          "name": "stdout"
        }
      ]
    }
  ]
}