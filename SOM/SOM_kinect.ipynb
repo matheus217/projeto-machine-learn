{
  "nbformat": 4,
  "nbformat_minor": 0,
  "metadata": {
    "colab": {
      "name": "Copy of Untitled8.ipynb",
      "version": "0.3.2",
      "provenance": [],
      "include_colab_link": true
    },
    "kernelspec": {
      "name": "python3",
      "display_name": "Python 3"
    }
  },
  "cells": [
    {
      "cell_type": "markdown",
      "metadata": {
        "id": "view-in-github",
        "colab_type": "text"
      },
      "source": [
        "<a href=\"https://colab.research.google.com/github/matheus217/projeto-machine-learn/blob/master/SOM/SOM_kinect.ipynb\" target=\"_parent\"><img src=\"https://colab.research.google.com/assets/colab-badge.svg\" alt=\"Open In Colab\"/></a>"
      ]
    },
    {
      "metadata": {
        "id": "15TxS-Ufq2TM",
        "colab_type": "code",
        "colab": {}
      },
      "cell_type": "code",
      "source": [
        "import numpy as np\n",
        "import matplotlib.pyplot as plt\n",
        "import pandas as pd"
      ],
      "execution_count": 0,
      "outputs": []
    },
    {
      "metadata": {
        "id": "HzMgJkpYLW2K",
        "colab_type": "code",
        "outputId": "42ca7bb6-b791-44e3-a00a-ef8afa2c8cab",
        "colab": {
          "base_uri": "https://localhost:8080/",
          "height": 34
        }
      },
      "cell_type": "code",
      "source": [
        "!pip install minisom"
      ],
      "execution_count": 24,
      "outputs": [
        {
          "output_type": "stream",
          "text": [
            "Requirement already satisfied: minisom in /usr/local/lib/python3.6/dist-packages (2.1.4)\n"
          ],
          "name": "stdout"
        }
      ]
    },
    {
      "metadata": {
        "id": "NwJ735JYwH-V",
        "colab_type": "code",
        "outputId": "708b7ae1-b030-4c51-e9b5-31d6118f1745",
        "colab": {
          "base_uri": "https://localhost:8080/",
          "height": 34
        }
      },
      "cell_type": "code",
      "source": [
        "import os\n",
        "import tarfile\n",
        "from six.moves import urllib\n",
        "\n",
        "FILE_TO_DOWNLOAD =  \"posicoesBHC.csv\"\n",
        "DOWNLOAD_ROOT = \"https://raw.githubusercontent.com/matheus217/PROJECT_2_MACHINE_LEARNING_AND_KINECT/master/\"\n",
        "DATA_PATH = \"KINECTDATA/\"\n",
        "DATA_URL = DOWNLOAD_ROOT + DATA_PATH + FILE_TO_DOWNLOAD\n",
        "\n",
        "def fetch_data(data_url=DATA_URL, data_path=DATA_PATH, file_to_download=FILE_TO_DOWNLOAD):\n",
        "  if not os.path.isdir(data_path):\n",
        "    os.makedirs(data_path)\n",
        "  urllib.request.urlretrieve(data_url, data_path+file_to_download)\n",
        "  \n",
        "  \n",
        "fetch_data()\n",
        "\n",
        "# observando se o diretório datasets foi criado com sucesso \n",
        "!ls KINECTDATA"
      ],
      "execution_count": 25,
      "outputs": [
        {
          "output_type": "stream",
          "text": [
            "posicoesBHC.csv\n"
          ],
          "name": "stdout"
        }
      ]
    },
    {
      "metadata": {
        "id": "5W3hBuguwJ2C",
        "colab_type": "code",
        "outputId": "bc19e96c-238f-46a8-ffc0-08d519952a1d",
        "colab": {
          "base_uri": "https://localhost:8080/",
          "height": 136
        }
      },
      "cell_type": "code",
      "source": [
        "# Importing the dataset\n",
        "dataset = pd.read_csv(DATA_PATH+'posicoesBHC.csv')\n",
        "\n",
        "X = dataset.iloc[:, :-1].values\n",
        "y = dataset.iloc[:, -1].values\n",
        "\n",
        "\n",
        "dataset.head(  )\n",
        "\n",
        "print(X)"
      ],
      "execution_count": 26,
      "outputs": [
        {
          "output_type": "stream",
          "text": [
            "[[ 0.577941  -0.16796    2.10382   ...  0.496337  -1.01146    2.39307  ]\n",
            " [ 0.577908  -0.169476   2.1017    ...  0.496034  -1.01232    2.39018  ]\n",
            " [ 0.57794   -0.170435   2.09981   ...  0.495741  -1.01293    2.38754  ]\n",
            " ...\n",
            " [ 0.0319823 -0.0813758  2.9406    ...  0.148062  -1.08164    2.88246  ]\n",
            " [ 0.0318964 -0.0814569  2.94049   ...  0.159227  -1.11116    2.91462  ]\n",
            " [ 0.0318118 -0.0815319  2.94039   ...  0.165158  -1.1309     2.93787  ]]\n"
          ],
          "name": "stdout"
        }
      ]
    },
    {
      "metadata": {
        "id": "LZAGelLLUCgm",
        "colab_type": "code",
        "colab": {}
      },
      "cell_type": "code",
      "source": [
        "# Feature Scaling\n",
        "from sklearn.preprocessing import MinMaxScaler\n",
        "sc = MinMaxScaler(feature_range = (0, 1))\n",
        "X = sc.fit_transform(X)"
      ],
      "execution_count": 0,
      "outputs": []
    },
    {
      "metadata": {
        "id": "XhC1V1ujM-f1",
        "colab_type": "code",
        "colab": {}
      },
      "cell_type": "code",
      "source": [
        "# Training the SOM\n",
        "from minisom import MiniSom\n",
        "som = MiniSom(x = 10, y = 10, input_len = 60, sigma = 1.0, learning_rate = 0.5)\n",
        "som.random_weights_init(X)\n",
        "som.train_random(data = X, num_iteration = 100)"
      ],
      "execution_count": 0,
      "outputs": []
    },
    {
      "metadata": {
        "id": "sVQjdJ6LNFTQ",
        "colab_type": "code",
        "outputId": "7e81ea9b-2aea-4597-95d9-ca379e36ce53",
        "colab": {
          "base_uri": "https://localhost:8080/",
          "height": 351
        }
      },
      "cell_type": "code",
      "source": [
        "# Visualizing the results\n",
        "#markers = ['o', 's', 'D', 'X', 'H']\n",
        "#colors = ['r', 'g', 'b', 'm', 'y' ]\n",
        "from pylab import bone, pcolor, colorbar, plot, show\n",
        "bone()\n",
        "pcolor(som.distance_map().T)\n",
        "colorbar()\n",
        "markers = ['o', 's', 'D', 'X', 'H']\n",
        "colors = ['r', 'g', 'b', 'm', 'y' ]\n",
        "for i, x in enumerate(X):\n",
        "    w = som.winner(x)\n",
        "    plot(w[0] + 0.5,\n",
        "         w[1] + 0.5,\n",
        "         markers[y[i]],\n",
        "         markeredgecolor = colors[y[i]],\n",
        "         markerfacecolor = 'None',\n",
        "         markersize = 10,\n",
        "         markeredgewidth = 2)\n",
        "show()\n",
        "\n",
        "#braco para baixo - circulo\n",
        "#braco na horizontal - quadrado\n",
        "#braco para cima - losango\n",
        "#braco para baixo 2 - hexagono\n",
        "#braco para cima 2 - X"
      ],
      "execution_count": 29,
      "outputs": [
        {
          "output_type": "display_data",
          "data": {
            "image/png": "[encoded data removed]",
            "text/plain": [
              "<matplotlib.figure.Figure at 0x7f61723f7080>"
            ]
          },
          "metadata": {
            "tags": []
          }
        }
      ]
    }
  ]
}