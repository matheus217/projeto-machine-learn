{
  "nbformat": 4,
  "nbformat_minor": 0,
  "metadata": {
    "colab": {
      "name": "classificacao-mlp.ipynb",
      "version": "0.3.2",
      "provenance": [],
      "include_colab_link": true
    },
    "kernelspec": {
      "name": "python2",
      "display_name": "Python 2"
    }
  },
  "cells": [
    {
      "cell_type": "markdown",
      "metadata": {
        "id": "view-in-github",
        "colab_type": "text"
      },
      "source": [
        "[View in Colaboratory](https://colab.research.google.com/github/matheus217/projeto-machine-learn/blob/master/classificacao_mlp.ipynb)"
      ]
    },
    {
      "metadata": {
        "id": "VxVbF0JxMaSA",
        "colab_type": "code",
        "colab": {}
      },
      "cell_type": "code",
      "source": [
        "# Artificial Neural Network\n",
        "# from https://www.superdatascience.com/machine-learning/ \n",
        "\n",
        "# Installing Theano\n",
        "# pip install --upgrade --no-deps git+git://github.com/Theano/Theano.git\n",
        "\n",
        "# Installing Tensorflow\n",
        "# Install Tensorflow from the website: https://www.tensorflow.org/versions/r0.12/get_started/os_setup.html\n",
        "\n",
        "# Installing Keras\n",
        "# pip install --upgrade keras\n",
        "\n",
        "# Part 1 - Data Preprocessing\n",
        "\n",
        "# Importing the libraries\n",
        "import numpy as np\n",
        "import matplotlib.pyplot as plt\n",
        "import pandas as pd"
      ],
      "execution_count": 0,
      "outputs": []
    },
    {
      "metadata": {
        "id": "Z8nwmMOJM9bD",
        "colab_type": "code",
        "colab": {
          "base_uri": "https://localhost:8080/",
          "height": 34
        },
        "outputId": "a3d92e46-9614-45c5-8dbc-497d9905aac2"
      },
      "cell_type": "code",
      "source": [
        "import os\n",
        "import tarfile\n",
        "from six.moves import urllib\n",
        "\n",
        "FILE_TO_DOWNLOAD =  \"data.csv\"\n",
        "DOWNLOAD_ROOT = \"https://raw.githubusercontent.com/willcribeiro/Autonomous-Robot/master/\"\n",
        "DATA_PATH = \"Dados/\"\n",
        "DATA_URL = DOWNLOAD_ROOT + DATA_PATH + FILE_TO_DOWNLOAD\n",
        "\n",
        "def fetch_data(data_url=DATA_URL, data_path=DATA_PATH, file_to_download=FILE_TO_DOWNLOAD):\n",
        "  if not os.path.isdir(data_path):\n",
        "    os.makedirs(data_path)\n",
        "  urllib.request.urlretrieve(data_url, data_path+file_to_download)\n",
        "  \n",
        "  \n",
        "fetch_data()\n",
        "\n",
        "# observando se o diretório datasets foi criado com sucesso \n",
        "!ls Dados"
      ],
      "execution_count": 187,
      "outputs": [
        {
          "output_type": "stream",
          "text": [
            "data.csv\n"
          ],
          "name": "stdout"
        }
      ]
    },
    {
      "metadata": {
        "id": "EQta3LTKOoKg",
        "colab_type": "code",
        "colab": {
          "base_uri": "https://localhost:8080/",
          "height": 197
        },
        "outputId": "b4083b65-2421-4c94-9645-c39d20f7d108"
      },
      "cell_type": "code",
      "source": [
        "# Importing the dataset\n",
        "dataset = pd.read_csv(DATA_PATH+'data.csv')\n",
        "\n",
        "\n",
        "dataset.head(  )"
      ],
      "execution_count": 188,
      "outputs": [
        {
          "output_type": "execute_result",
          "data": {
            "text/html": [
              "<div>\n",
              "<style scoped>\n",
              "    .dataframe tbody tr th:only-of-type {\n",
              "        vertical-align: middle;\n",
              "    }\n",
              "\n",
              "    .dataframe tbody tr th {\n",
              "        vertical-align: top;\n",
              "    }\n",
              "\n",
              "    .dataframe thead th {\n",
              "        text-align: right;\n",
              "    }\n",
              "</style>\n",
              "<table border=\"1\" class=\"dataframe\">\n",
              "  <thead>\n",
              "    <tr style=\"text-align: right;\">\n",
              "      <th></th>\n",
              "      <th>S0rvo0</th>\n",
              "      <th>S0rvo30</th>\n",
              "      <th>S0rvo60</th>\n",
              "      <th>S0rvo90</th>\n",
              "      <th>S0rvo120</th>\n",
              "      <th>S0rvo150</th>\n",
              "      <th>S0rvo180</th>\n",
              "      <th>Action</th>\n",
              "    </tr>\n",
              "  </thead>\n",
              "  <tbody>\n",
              "    <tr>\n",
              "      <th>0</th>\n",
              "      <td>59.6907</td>\n",
              "      <td>60.0000</td>\n",
              "      <td>60.00000</td>\n",
              "      <td>54.15810</td>\n",
              "      <td>10.36080</td>\n",
              "      <td>14.77660</td>\n",
              "      <td>60.00000</td>\n",
              "      <td>0</td>\n",
              "    </tr>\n",
              "    <tr>\n",
              "      <th>1</th>\n",
              "      <td>34.5533</td>\n",
              "      <td>60.0000</td>\n",
              "      <td>8.90034</td>\n",
              "      <td>7.73196</td>\n",
              "      <td>8.52234</td>\n",
              "      <td>60.00000</td>\n",
              "      <td>60.00000</td>\n",
              "      <td>1</td>\n",
              "    </tr>\n",
              "    <tr>\n",
              "      <th>2</th>\n",
              "      <td>35.5670</td>\n",
              "      <td>53.4192</td>\n",
              "      <td>60.00000</td>\n",
              "      <td>60.00000</td>\n",
              "      <td>9.69072</td>\n",
              "      <td>11.94160</td>\n",
              "      <td>60.00000</td>\n",
              "      <td>0</td>\n",
              "    </tr>\n",
              "    <tr>\n",
              "      <th>3</th>\n",
              "      <td>38.6598</td>\n",
              "      <td>49.2783</td>\n",
              "      <td>60.00000</td>\n",
              "      <td>60.00000</td>\n",
              "      <td>9.29553</td>\n",
              "      <td>6.39175</td>\n",
              "      <td>9.34708</td>\n",
              "      <td>0</td>\n",
              "    </tr>\n",
              "    <tr>\n",
              "      <th>4</th>\n",
              "      <td>39.0378</td>\n",
              "      <td>41.0309</td>\n",
              "      <td>60.00000</td>\n",
              "      <td>10.51550</td>\n",
              "      <td>7.38832</td>\n",
              "      <td>8.26460</td>\n",
              "      <td>60.00000</td>\n",
              "      <td>0</td>\n",
              "    </tr>\n",
              "  </tbody>\n",
              "</table>\n",
              "</div>"
            ],
            "text/plain": [
              "    S0rvo0   S0rvo30   S0rvo60   S0rvo90   S0rvo120   S0rvo150   S0rvo180  \\\n",
              "0  59.6907   60.0000  60.00000  54.15810   10.36080   14.77660   60.00000   \n",
              "1  34.5533   60.0000   8.90034   7.73196    8.52234   60.00000   60.00000   \n",
              "2  35.5670   53.4192  60.00000  60.00000    9.69072   11.94160   60.00000   \n",
              "3  38.6598   49.2783  60.00000  60.00000    9.29553    6.39175    9.34708   \n",
              "4  39.0378   41.0309  60.00000  10.51550    7.38832    8.26460   60.00000   \n",
              "\n",
              "    Action  \n",
              "0        0  \n",
              "1        1  \n",
              "2        0  \n",
              "3        0  \n",
              "4        0  "
            ]
          },
          "metadata": {
            "tags": []
          },
          "execution_count": 188
        }
      ]
    },
    {
      "metadata": {
        "id": "A0zdf0mOPx_E",
        "colab_type": "code",
        "colab": {}
      },
      "cell_type": "code",
      "source": [
        "import numpy as np\n",
        "\n",
        "X = dataset.iloc[:,[0,1,2,3,4,5,6]].values\n",
        "y = dataset.iloc[:, 7].values\n",
        "\n",
        "y_new = [] \n",
        "\n",
        "for i in range(len(y)):\n",
        "\n",
        "  if y[i]==0:\n",
        "    y_new.append([0,0,1])\n",
        "    \n",
        "  elif y[i]==1:\n",
        "    y_new.append([0,1,0])\n",
        "    \n",
        "  else:\n",
        "    y_new.append([1,0,0]) \n",
        "    \n",
        "  \n"
      ],
      "execution_count": 0,
      "outputs": []
    },
    {
      "metadata": {
        "id": "qfsuQJ0tSIxw",
        "colab_type": "code",
        "colab": {}
      },
      "cell_type": "code",
      "source": [
        "# Splitting the dataset into the Training set and Test set\n",
        "from sklearn.model_selection import train_test_split\n",
        "#X_train, X_test, y_train, y_test = train_test_split(X, y_new, test_size = 0.2, random_state = 0)\n",
        "X_train = X_test = X\n",
        "y_train = y_test = y_new\n",
        "#print(X)\n",
        "#print(y)"
      ],
      "execution_count": 0,
      "outputs": []
    },
    {
      "metadata": {
        "id": "sVhd9QKUSKof",
        "colab_type": "code",
        "colab": {}
      },
      "cell_type": "code",
      "source": [
        "# Feature Scaling\n",
        "from sklearn.preprocessing import StandardScaler\n",
        "sc = StandardScaler()\n",
        "X_train = sc.fit_transform(X_train)\n",
        "X_test = sc.transform(X_test)\n",
        "\n",
        "#print(X_train)\n",
        "#print(X_test)"
      ],
      "execution_count": 0,
      "outputs": []
    },
    {
      "metadata": {
        "id": "kgvYprhRSUEB",
        "colab_type": "code",
        "colab": {}
      },
      "cell_type": "code",
      "source": [
        "# Part 2 - Now let's make the ANN!\n",
        "\n",
        "# Importing the Keras libraries and packages\n",
        "import keras\n",
        "from keras.models import Sequential\n",
        "from keras.layers import Dense\n",
        "\n",
        "\n",
        "# Initialising the ANN\n",
        "classifier = Sequential()"
      ],
      "execution_count": 0,
      "outputs": []
    },
    {
      "metadata": {
        "id": "9ykBLCF9SXF5",
        "colab_type": "code",
        "colab": {}
      },
      "cell_type": "code",
      "source": [
        "# Adding the input layer and the first hidden layer\n",
        "classifier.add(Dense( activation = 'relu', input_dim = 7, units = 14, kernel_initializer = 'uniform'))\n",
        "\n",
        "#Adding the second hidden layer\n",
        "classifier.add(Dense( activation = 'sigmoid', units = 7, kernel_initializer = 'uniform' ))\n",
        "\n",
        "# Adding the output layer\n",
        "classifier.add(Dense( activation = 'softmax', units = 3, kernel_initializer = 'uniform'))\n"
      ],
      "execution_count": 0,
      "outputs": []
    },
    {
      "metadata": {
        "id": "vMfH2h6wUq1b",
        "colab_type": "code",
        "colab": {}
      },
      "cell_type": "code",
      "source": [
        "# Compiling the ANN\n",
        "classifier.compile(optimizer = 'adam', loss = 'mean_squared_error', metrics = ['accuracy'])\n"
      ],
      "execution_count": 0,
      "outputs": []
    },
    {
      "metadata": {
        "id": "jDg8BSV2VKGS",
        "colab_type": "code",
        "colab": {
          "base_uri": "https://localhost:8080/",
          "height": 1456
        },
        "outputId": "0cf42c12-a3c4-4809-f1e8-df6ea47a3a26"
      },
      "cell_type": "code",
      "source": [
        "# Fitting the ANN to the Training set\n",
        "classifier.fit(np.array(X_train),np.array(y_train), batch_size = 30, epochs = 40)\n"
      ],
      "execution_count": 195,
      "outputs": [
        {
          "output_type": "stream",
          "text": [
            "Epoch 1/40\n",
            "317/317 [==============================] - 0s 2ms/step - loss: 0.2222 - acc: 0.3344\n",
            "Epoch 2/40\n",
            "317/317 [==============================] - 0s 59us/step - loss: 0.2211 - acc: 0.3975\n",
            "Epoch 3/40\n",
            "317/317 [==============================] - 0s 58us/step - loss: 0.2201 - acc: 0.3975\n",
            "Epoch 4/40\n",
            "317/317 [==============================] - 0s 62us/step - loss: 0.2192 - acc: 0.3975\n",
            "Epoch 5/40\n",
            "317/317 [==============================] - 0s 64us/step - loss: 0.2186 - acc: 0.3975\n",
            "Epoch 6/40\n",
            "317/317 [==============================] - 0s 66us/step - loss: 0.2179 - acc: 0.3975\n",
            "Epoch 7/40\n",
            "317/317 [==============================] - 0s 60us/step - loss: 0.2171 - acc: 0.3975\n",
            "Epoch 8/40\n",
            "317/317 [==============================] - 0s 61us/step - loss: 0.2162 - acc: 0.3975\n",
            "Epoch 9/40\n",
            "317/317 [==============================] - 0s 60us/step - loss: 0.2151 - acc: 0.3975\n",
            "Epoch 10/40\n",
            "317/317 [==============================] - 0s 58us/step - loss: 0.2135 - acc: 0.3975\n",
            "Epoch 11/40\n",
            "317/317 [==============================] - 0s 60us/step - loss: 0.2116 - acc: 0.3975\n",
            "Epoch 12/40\n",
            "317/317 [==============================] - 0s 62us/step - loss: 0.2090 - acc: 0.3975\n",
            "Epoch 13/40\n",
            "317/317 [==============================] - 0s 61us/step - loss: 0.2058 - acc: 0.4069\n",
            "Epoch 14/40\n",
            "317/317 [==============================] - 0s 63us/step - loss: 0.2021 - acc: 0.4290\n",
            "Epoch 15/40\n",
            "317/317 [==============================] - 0s 60us/step - loss: 0.1977 - acc: 0.4543\n",
            "Epoch 16/40\n",
            "317/317 [==============================] - 0s 67us/step - loss: 0.1930 - acc: 0.4921\n",
            "Epoch 17/40\n",
            "317/317 [==============================] - 0s 62us/step - loss: 0.1880 - acc: 0.5363\n",
            "Epoch 18/40\n",
            "317/317 [==============================] - 0s 64us/step - loss: 0.1831 - acc: 0.5804\n",
            "Epoch 19/40\n",
            "317/317 [==============================] - 0s 58us/step - loss: 0.1783 - acc: 0.6025\n",
            "Epoch 20/40\n",
            "317/317 [==============================] - 0s 64us/step - loss: 0.1739 - acc: 0.6246\n",
            "Epoch 21/40\n",
            "317/317 [==============================] - 0s 66us/step - loss: 0.1694 - acc: 0.6372\n",
            "Epoch 22/40\n",
            "317/317 [==============================] - 0s 65us/step - loss: 0.1655 - acc: 0.6404\n",
            "Epoch 23/40\n",
            "317/317 [==============================] - 0s 65us/step - loss: 0.1618 - acc: 0.6467\n",
            "Epoch 24/40\n",
            "317/317 [==============================] - 0s 58us/step - loss: 0.1584 - acc: 0.6467\n",
            "Epoch 25/40\n",
            "317/317 [==============================] - 0s 60us/step - loss: 0.1552 - acc: 0.6562\n",
            "Epoch 26/40\n",
            "317/317 [==============================] - 0s 60us/step - loss: 0.1524 - acc: 0.6530\n",
            "Epoch 27/40\n",
            "317/317 [==============================] - 0s 66us/step - loss: 0.1496 - acc: 0.6562\n",
            "Epoch 28/40\n",
            "317/317 [==============================] - 0s 62us/step - loss: 0.1472 - acc: 0.6562\n",
            "Epoch 29/40\n",
            "317/317 [==============================] - 0s 60us/step - loss: 0.1448 - acc: 0.6562\n",
            "Epoch 30/40\n",
            "317/317 [==============================] - 0s 62us/step - loss: 0.1427 - acc: 0.6530\n",
            "Epoch 31/40\n",
            "317/317 [==============================] - 0s 62us/step - loss: 0.1407 - acc: 0.6562\n",
            "Epoch 32/40\n",
            "317/317 [==============================] - 0s 63us/step - loss: 0.1387 - acc: 0.6562\n",
            "Epoch 33/40\n",
            "317/317 [==============================] - 0s 59us/step - loss: 0.1369 - acc: 0.6625\n",
            "Epoch 34/40\n",
            "317/317 [==============================] - 0s 58us/step - loss: 0.1352 - acc: 0.6625\n",
            "Epoch 35/40\n",
            "317/317 [==============================] - 0s 67us/step - loss: 0.1335 - acc: 0.6625\n",
            "Epoch 36/40\n",
            "317/317 [==============================] - 0s 64us/step - loss: 0.1319 - acc: 0.6625\n",
            "Epoch 37/40\n",
            "317/317 [==============================] - 0s 61us/step - loss: 0.1304 - acc: 0.6625\n",
            "Epoch 38/40\n",
            "317/317 [==============================] - 0s 58us/step - loss: 0.1289 - acc: 0.6751\n",
            "Epoch 39/40\n",
            "317/317 [==============================] - 0s 60us/step - loss: 0.1275 - acc: 0.7445\n",
            "Epoch 40/40\n",
            "317/317 [==============================] - 0s 62us/step - loss: 0.1261 - acc: 0.7666\n"
          ],
          "name": "stdout"
        },
        {
          "output_type": "execute_result",
          "data": {
            "text/plain": [
              "<keras.callbacks.History at 0x7f8921445210>"
            ]
          },
          "metadata": {
            "tags": []
          },
          "execution_count": 195
        }
      ]
    },
    {
      "metadata": {
        "id": "oxin6EOiVTX6",
        "colab_type": "code",
        "colab": {}
      },
      "cell_type": "code",
      "source": [
        "# Part 3 - Making the predictions and evaluating the model\n",
        "\n",
        "# Predicting the Test set results\n",
        "y_pred = classifier.predict(X_test)\n",
        "#print(y_test)\n",
        "#print(y_pred)\n",
        "\n",
        "# Making the Confusion Matrix\n",
        "from sklearn.metrics import confusion_matrix\n",
        "y_test_non_category = [ np.argmax(t) for t in y_test ]\n",
        "y_pred_non_category = [ np.argmax(t) for t in y_pred ]\n",
        "\n",
        "from sklearn.metrics import confusion_matrix\n",
        "cm = confusion_matrix(y_test_non_category, y_pred_non_category)\n",
        "#cm = confusion_matrix(y_test, y_pred)"
      ],
      "execution_count": 0,
      "outputs": []
    },
    {
      "metadata": {
        "id": "FAOkQ0RtX8GF",
        "colab_type": "code",
        "colab": {
          "base_uri": "https://localhost:8080/",
          "height": 123
        },
        "outputId": "825fcf14-f5bd-4b40-9192-886252509cc9"
      },
      "cell_type": "code",
      "source": [
        "from sklearn.metrics import accuracy_score\n",
        "#print(y_pred)\n",
        "print(\"Matriz de Confusão:\")\n",
        "print(cm)\n",
        "print(\"Taxa de acerto:\")\n",
        "print(accuracy_score(y_test_non_category, y_pred_non_category))\n"
      ],
      "execution_count": 197,
      "outputs": [
        {
          "output_type": "stream",
          "text": [
            "Matriz de Confusão:\n",
            "[[ 37  37   2]\n",
            " [  0  88  27]\n",
            " [  0   2 124]]\n",
            "Taxa de acerto:\n",
            "0.7854889589905363\n"
          ],
          "name": "stdout"
        }
      ]
    }
  ]
}