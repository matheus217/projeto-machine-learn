{
  "nbformat": 4,
  "nbformat_minor": 0,
  "metadata": {
    "colab": {
      "name": "Untitled0.ipynb",
      "version": "0.3.2",
      "provenance": [],
      "collapsed_sections": [],
      "include_colab_link": true
    },
    "kernelspec": {
      "name": "python3",
      "display_name": "Python 3"
    }
  },
  "cells": [
    {
      "cell_type": "markdown",
      "metadata": {
        "id": "view-in-github",
        "colab_type": "text"
      },
      "source": [
        "[View in Colaboratory](https://colab.research.google.com/github/matheus217/projeto-machine-learn/blob/master/Untitled0.ipynb)"
      ]
    },
    {
      "metadata": {
        "id": "gkIZ_E4fa8Cl",
        "colab_type": "code",
        "colab": {
          "base_uri": "https://localhost:8080/",
          "height": 374
        },
        "outputId": "c5940494-9c4e-4ee1-ed0b-401d92d6eb81"
      },
      "cell_type": "code",
      "source": [
        "import numpy as np\n",
        "\n",
        "x = [0,0,1] \n",
        "\n",
        "w = [0.4, -0.6, 0.6]\n",
        "\n",
        "limiar = 0.5\n",
        "\n",
        "taxa_aprendizado = 0.4\n",
        "\n",
        "erro = 10\n",
        "\n",
        "y = 0\n",
        "\n",
        "d = -1\n",
        "\n",
        "u = x[0]*w[0] +  x[1]*w[1] + x[2]*w[2] -1*limiar\n",
        "\n",
        "y = u = +1\n",
        "\n",
        "while(erro!=0):\n",
        "  w[0] = w[0] + taxa_aprendizado*x[0]*erro\n",
        "  w[1] = w[1] + taxa_aprendizado*x[1]*erro\n",
        "  w[2] = w[2] + taxa_aprendizado*x[2]*erro\n",
        "  limiar = limiar + taxa_aprendizado*d*erro\n",
        "  u = x[0]*w[0] +  x[1]*w[1] + x[2]*w[2] -1*limiar\n",
        "  print(u)\n",
        "  print('k')\n",
        "  if u>=0:\n",
        "    y = +1\n",
        "  else:\n",
        "    y = -1\n",
        "  erro = d - y\n",
        "  print(erro)\n",
        "  \n",
        "\n",
        "\n",
        "  \n",
        "  \n"
      ],
      "execution_count": 0,
      "outputs": [
        {
          "output_type": "stream",
          "text": [
            "8.1\n",
            "k\n",
            "-2\n",
            "6.5\n",
            "k\n",
            "-2\n",
            "4.9\n",
            "k\n",
            "-2\n",
            "3.3000000000000003\n",
            "k\n",
            "-2\n",
            "1.7000000000000002\n",
            "k\n",
            "-2\n",
            "0.10000000000000009\n",
            "k\n",
            "-2\n",
            "-1.5\n",
            "k\n",
            "0\n"
          ],
          "name": "stdout"
        }
      ]
    },
    {
      "metadata": {
        "id": "4ZWakeZvcU2y",
        "colab_type": "code",
        "colab": {}
      },
      "cell_type": "code",
      "source": [
        ""
      ],
      "execution_count": 0,
      "outputs": []
    }
  ]
}