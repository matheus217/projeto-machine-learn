{
  "nbformat": 4,
  "nbformat_minor": 0,
  "metadata": {
    "colab": {
      "name": "Untitled9.ipynb",
      "version": "0.3.2",
      "provenance": [],
      "include_colab_link": true
    },
    "kernelspec": {
      "name": "python3",
      "display_name": "Python 3"
    }
  },
  "cells": [
    {
      "cell_type": "markdown",
      "metadata": {
        "id": "view-in-github",
        "colab_type": "text"
      },
      "source": [
        "<a href=\"https://colab.research.google.com/github/matheus217/projeto-machine-learn/blob/master/perfil_politico.ipynb\" target=\"_parent\"><img src=\"https://colab.research.google.com/assets/colab-badge.svg\" alt=\"Open In Colab\"/></a>"
      ]
    },
    {
      "metadata": {
        "id": "ApdOSQmGEZ_f",
        "colab_type": "code",
        "colab": {}
      },
      "cell_type": "code",
      "source": [
        "# K-Means\n",
        "# from https://www.superdatascience.com/machine-learning/ \n",
        "\n",
        "\n",
        "# Part 1 - Data Preprocessing\n",
        "\n",
        "# Importing the libraries\n",
        "import numpy as np\n",
        "import matplotlib.pyplot as plt\n",
        "import pandas as pd"
      ],
      "execution_count": 0,
      "outputs": []
    },
    {
      "metadata": {
        "id": "s_boL2bxEaqh",
        "colab_type": "code",
        "colab": {
          "base_uri": "https://localhost:8080/",
          "height": 34
        },
        "outputId": "241c4c73-90bd-439e-880b-8af0cce0fa9a"
      },
      "cell_type": "code",
      "source": [
        "import os\n",
        "import tarfile\n",
        "from six.moves import urllib\n",
        "\n",
        "FILE_TO_DOWNLOAD =  \"perfil_politico.csv\"\n",
        "DOWNLOAD_ROOT = \"https://raw.githubusercontent.com/matheus217/projeto-machine-learn/master/\"\n",
        "DATA_PATH = \"dados/\"\n",
        "DATA_URL = DOWNLOAD_ROOT + DATA_PATH + FILE_TO_DOWNLOAD\n",
        "\n",
        "def fetch_data(data_url=DATA_URL, data_path=DATA_PATH, file_to_download=FILE_TO_DOWNLOAD):\n",
        "  if not os.path.isdir(data_path):\n",
        "    os.makedirs(data_path)\n",
        "  urllib.request.urlretrieve(data_url, data_path+file_to_download)\n",
        "  \n",
        "  \n",
        "fetch_data()\n",
        "\n",
        "# observando se o diretório datasets foi criado com sucesso \n",
        "!ls dados"
      ],
      "execution_count": 20,
      "outputs": [
        {
          "output_type": "stream",
          "text": [
            "Mall_Customers.csv  perfil_politico.csv\n"
          ],
          "name": "stdout"
        }
      ]
    },
    {
      "metadata": {
        "id": "pwDqsDz7Ec1L",
        "colab_type": "code",
        "colab": {
          "base_uri": "https://localhost:8080/",
          "height": 334
        },
        "outputId": "0685b39e-bd27-467d-e051-614f6ff4c8bb"
      },
      "cell_type": "code",
      "source": [
        "# Importing the dataset\n",
        "dataset = pd.read_csv(DATA_PATH+FILE_TO_DOWNLOAD)\n",
        "\n",
        "\n",
        "dataset.head(  )"
      ],
      "execution_count": 21,
      "outputs": [
        {
          "output_type": "execute_result",
          "data": {
            "text/html": [
              "<div>\n",
              "<style scoped>\n",
              "    .dataframe tbody tr th:only-of-type {\n",
              "        vertical-align: middle;\n",
              "    }\n",
              "\n",
              "    .dataframe tbody tr th {\n",
              "        vertical-align: top;\n",
              "    }\n",
              "\n",
              "    .dataframe thead th {\n",
              "        text-align: right;\n",
              "    }\n",
              "</style>\n",
              "<table border=\"1\" class=\"dataframe\">\n",
              "  <thead>\n",
              "    <tr style=\"text-align: right;\">\n",
              "      <th></th>\n",
              "      <th>Apoia privatizações das empresas brasileiras?</th>\n",
              "      <th>Lula deve ser solto</th>\n",
              "      <th>O impeachment de Dilma foi um golpe?</th>\n",
              "      <th>Legalização do aborto</th>\n",
              "      <th>Políticas de ações afirmativas (cotas)</th>\n",
              "      <th>A favor da reforma agrária</th>\n",
              "      <th>Todos os brasileiro devem alcançar suas conquistas através da meritocracia</th>\n",
              "      <th>Apoia a legalização do porte de armas</th>\n",
              "      <th>Apoia a redução da maioridade penal</th>\n",
              "      <th>Apoia a laicidade do Estado</th>\n",
              "      <th>Apoia a diminuição do Estado</th>\n",
              "      <th>As Universidades são um gasto público?</th>\n",
              "      <th>A favor do foro privilegiado?</th>\n",
              "      <th>A favor de uma reforma política?</th>\n",
              "      <th>A favor de uma diminuição de regalias para os políticos?</th>\n",
              "    </tr>\n",
              "  </thead>\n",
              "  <tbody>\n",
              "    <tr>\n",
              "      <th>0</th>\n",
              "      <td>1.0</td>\n",
              "      <td>0.0</td>\n",
              "      <td>0.0</td>\n",
              "      <td>0.5</td>\n",
              "      <td>1.0</td>\n",
              "      <td>1.0</td>\n",
              "      <td>0.5</td>\n",
              "      <td>0.5</td>\n",
              "      <td>1.0</td>\n",
              "      <td>1.0</td>\n",
              "      <td>1.0</td>\n",
              "      <td>0</td>\n",
              "      <td>0.0</td>\n",
              "      <td>1</td>\n",
              "      <td>1</td>\n",
              "    </tr>\n",
              "    <tr>\n",
              "      <th>1</th>\n",
              "      <td>0.5</td>\n",
              "      <td>1.0</td>\n",
              "      <td>1.0</td>\n",
              "      <td>0.5</td>\n",
              "      <td>1.0</td>\n",
              "      <td>0.5</td>\n",
              "      <td>1.0</td>\n",
              "      <td>0.0</td>\n",
              "      <td>1.0</td>\n",
              "      <td>1.0</td>\n",
              "      <td>0.5</td>\n",
              "      <td>0</td>\n",
              "      <td>0.0</td>\n",
              "      <td>1</td>\n",
              "      <td>1</td>\n",
              "    </tr>\n",
              "    <tr>\n",
              "      <th>2</th>\n",
              "      <td>1.0</td>\n",
              "      <td>0.0</td>\n",
              "      <td>0.0</td>\n",
              "      <td>1.0</td>\n",
              "      <td>0.5</td>\n",
              "      <td>0.5</td>\n",
              "      <td>1.0</td>\n",
              "      <td>1.0</td>\n",
              "      <td>1.0</td>\n",
              "      <td>1.0</td>\n",
              "      <td>1.0</td>\n",
              "      <td>0</td>\n",
              "      <td>0.0</td>\n",
              "      <td>0</td>\n",
              "      <td>1</td>\n",
              "    </tr>\n",
              "    <tr>\n",
              "      <th>3</th>\n",
              "      <td>1.0</td>\n",
              "      <td>0.0</td>\n",
              "      <td>1.0</td>\n",
              "      <td>0.0</td>\n",
              "      <td>1.0</td>\n",
              "      <td>1.0</td>\n",
              "      <td>1.0</td>\n",
              "      <td>0.0</td>\n",
              "      <td>0.0</td>\n",
              "      <td>1.0</td>\n",
              "      <td>1.0</td>\n",
              "      <td>0</td>\n",
              "      <td>1.0</td>\n",
              "      <td>1</td>\n",
              "      <td>1</td>\n",
              "    </tr>\n",
              "    <tr>\n",
              "      <th>4</th>\n",
              "      <td>0.0</td>\n",
              "      <td>0.0</td>\n",
              "      <td>1.0</td>\n",
              "      <td>0.0</td>\n",
              "      <td>0.0</td>\n",
              "      <td>0.0</td>\n",
              "      <td>1.0</td>\n",
              "      <td>1.0</td>\n",
              "      <td>1.0</td>\n",
              "      <td>1.0</td>\n",
              "      <td>0.0</td>\n",
              "      <td>0</td>\n",
              "      <td>0.0</td>\n",
              "      <td>1</td>\n",
              "      <td>1</td>\n",
              "    </tr>\n",
              "  </tbody>\n",
              "</table>\n",
              "</div>"
            ],
            "text/plain": [
              "   Apoia privatizações das empresas brasileiras?  Lula deve ser solto  \\\n",
              "0                                            1.0                  0.0   \n",
              "1                                            0.5                  1.0   \n",
              "2                                            1.0                  0.0   \n",
              "3                                            1.0                  0.0   \n",
              "4                                            0.0                  0.0   \n",
              "\n",
              "   O impeachment de Dilma foi um golpe?  Legalização do aborto  \\\n",
              "0                                   0.0                    0.5   \n",
              "1                                   1.0                    0.5   \n",
              "2                                   0.0                    1.0   \n",
              "3                                   1.0                    0.0   \n",
              "4                                   1.0                    0.0   \n",
              "\n",
              "   Políticas de ações afirmativas (cotas)  A favor da reforma agrária  \\\n",
              "0                                     1.0                         1.0   \n",
              "1                                     1.0                         0.5   \n",
              "2                                     0.5                         0.5   \n",
              "3                                     1.0                         1.0   \n",
              "4                                     0.0                         0.0   \n",
              "\n",
              "   Todos os brasileiro devem alcançar suas conquistas através da meritocracia  \\\n",
              "0                                                0.5                            \n",
              "1                                                1.0                            \n",
              "2                                                1.0                            \n",
              "3                                                1.0                            \n",
              "4                                                1.0                            \n",
              "\n",
              "   Apoia a legalização do porte de armas  Apoia a redução da maioridade penal  \\\n",
              "0                                    0.5                                  1.0   \n",
              "1                                    0.0                                  1.0   \n",
              "2                                    1.0                                  1.0   \n",
              "3                                    0.0                                  0.0   \n",
              "4                                    1.0                                  1.0   \n",
              "\n",
              "   Apoia a laicidade do Estado  Apoia a diminuição do Estado  \\\n",
              "0                          1.0                           1.0   \n",
              "1                          1.0                           0.5   \n",
              "2                          1.0                           1.0   \n",
              "3                          1.0                           1.0   \n",
              "4                          1.0                           0.0   \n",
              "\n",
              "   As Universidades são um gasto público?  A favor do foro privilegiado?  \\\n",
              "0                                       0                            0.0   \n",
              "1                                       0                            0.0   \n",
              "2                                       0                            0.0   \n",
              "3                                       0                            1.0   \n",
              "4                                       0                            0.0   \n",
              "\n",
              "   A favor de uma reforma política?  \\\n",
              "0                                 1   \n",
              "1                                 1   \n",
              "2                                 0   \n",
              "3                                 1   \n",
              "4                                 1   \n",
              "\n",
              "   A favor de uma diminuição de regalias para os políticos?  \n",
              "0                                                  1         \n",
              "1                                                  1         \n",
              "2                                                  1         \n",
              "3                                                  1         \n",
              "4                                                  1         "
            ]
          },
          "metadata": {
            "tags": []
          },
          "execution_count": 21
        }
      ]
    },
    {
      "metadata": {
        "id": "Kw8iXxkUEwVT",
        "colab_type": "code",
        "colab": {
          "base_uri": "https://localhost:8080/",
          "height": 123
        },
        "outputId": "6be775f2-0bd2-4a4f-8687-12ddc18905ff"
      },
      "cell_type": "code",
      "source": [
        "X = dataset.iloc[:,[3,4]].values\n",
        "\n",
        "print(X[0:6,:])"
      ],
      "execution_count": 22,
      "outputs": [
        {
          "output_type": "stream",
          "text": [
            "[[0.5 1. ]\n",
            " [0.5 1. ]\n",
            " [1.  0.5]\n",
            " [0.  1. ]\n",
            " [0.  0. ]\n",
            " [1.  1. ]]\n"
          ],
          "name": "stdout"
        }
      ]
    },
    {
      "metadata": {
        "id": "O2tQsKFfHcHC",
        "colab_type": "code",
        "colab": {
          "base_uri": "https://localhost:8080/",
          "height": 70
        },
        "outputId": "664e552a-3f09-4cab-f8de-c9f69dcb414c"
      },
      "cell_type": "code",
      "source": [
        "# Fitting K-Means to the dataset\n",
        "\n",
        "from sklearn.cluster import KMeans\n",
        "\n",
        "kmeans = KMeans(n_clusters = 2, init = 'random', random_state = 1)\n",
        "y_kmeans = kmeans.fit_predict(X)\n",
        "\n",
        "print(y_kmeans[:]);\n",
        "\n",
        "print(y_kmeans == 0)"
      ],
      "execution_count": 23,
      "outputs": [
        {
          "output_type": "stream",
          "text": [
            "[0 0 0 1 1 0 0 0 1 0 0 1 0 1 0]\n",
            "[ True  True  True False False  True  True  True False  True  True False\n",
            "  True False  True]\n"
          ],
          "name": "stdout"
        }
      ]
    },
    {
      "metadata": {
        "id": "J7qQQtLpIGzt",
        "colab_type": "code",
        "colab": {
          "base_uri": "https://localhost:8080/",
          "height": 375
        },
        "outputId": "afb7b752-19f9-4ea2-ca9f-db2f6ed33b82"
      },
      "cell_type": "code",
      "source": [
        "# Visualising the clusters\n",
        "#plt.scatter(X[:, 0], X[:, 1], s = 100, c = 'red', label = 'Data')\n",
        "\n",
        "plt.scatter(X[y_kmeans == 0, 0], X[y_kmeans == 0, 1], s = 100, c = 'red', label = 'Cluster 1')\n",
        "plt.scatter(X[y_kmeans == 1, 0], X[y_kmeans == 1, 1], s = 100, c = 'blue', label = 'Cluster 2')\n",
        "plt.scatter(kmeans.cluster_centers_[:, 0], kmeans.cluster_centers_[:, 1], s = 300, c = 'yellow', label = 'Centroids')\n",
        "plt.title('Clusters of customers')\n",
        "plt.xlabel('Annual Income (k$)')\n",
        "plt.ylabel('Spending Score (1-100)')\n",
        "plt.legend()\n",
        "plt.show()"
      ],
      "execution_count": 24,
      "outputs": [
        {
          "output_type": "display_data",
          "data": {
            "image/png": "[encoded data removed]",
            "text/plain": [
              "<matplotlib.figure.Figure at 0x7fbb954c9ba8>"
            ]
          },
          "metadata": {
            "tags": []
          }
        }
      ]
    }
  ]
}